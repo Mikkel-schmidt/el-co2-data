{
 "cells": [
  {
   "cell_type": "code",
   "execution_count": 1,
   "metadata": {},
   "outputs": [],
   "source": [
    "import pandas as pd \n",
    "import numpy as np \n",
    "import requests\n"
   ]
  },
  {
   "cell_type": "code",
   "execution_count": 2,
   "metadata": {},
   "outputs": [],
   "source": [
    "# DeclarationEmissionHour\n",
    "response = requests.get(\n",
    "    url='https://api.energidataservice.dk/dataset/DeclarationGridEmission?start=2022-01-01T00:00&limit=400000')\n",
    "\n",
    "result = response.json()\n",
    "\n",
    "df = pd.json_normalize(result, 'records',\n",
    "            errors='ignore')"
   ]
  },
  {
   "cell_type": "code",
   "execution_count": 3,
   "metadata": {},
   "outputs": [
    {
     "data": {
      "text/html": [
       "<div>\n",
       "<style scoped>\n",
       "    .dataframe tbody tr th:only-of-type {\n",
       "        vertical-align: middle;\n",
       "    }\n",
       "\n",
       "    .dataframe tbody tr th {\n",
       "        vertical-align: top;\n",
       "    }\n",
       "\n",
       "    .dataframe thead th {\n",
       "        text-align: right;\n",
       "    }\n",
       "</style>\n",
       "<table border=\"1\" class=\"dataframe\">\n",
       "  <thead>\n",
       "    <tr style=\"text-align: right;\">\n",
       "      <th></th>\n",
       "      <th>HourUTC</th>\n",
       "      <th>HourDK</th>\n",
       "      <th>PriceArea</th>\n",
       "      <th>FuelAllocationMethod</th>\n",
       "      <th>Version</th>\n",
       "      <th>CO2originPerkWh</th>\n",
       "      <th>CO2PerkWh</th>\n",
       "      <th>CH4PerkWh</th>\n",
       "      <th>N2OPerkWh</th>\n",
       "      <th>TFactor</th>\n",
       "      <th>DFactor</th>\n",
       "    </tr>\n",
       "  </thead>\n",
       "  <tbody>\n",
       "    <tr>\n",
       "      <th>0</th>\n",
       "      <td>2024-01-11T22:00:00</td>\n",
       "      <td>2024-01-11T23:00:00</td>\n",
       "      <td>DK1</td>\n",
       "      <td>125%</td>\n",
       "      <td>Preliminary</td>\n",
       "      <td>291.246739</td>\n",
       "      <td>229.424337</td>\n",
       "      <td>115.186377</td>\n",
       "      <td>3.061148</td>\n",
       "      <td>1.016756</td>\n",
       "      <td>1.046517</td>\n",
       "    </tr>\n",
       "    <tr>\n",
       "      <th>1</th>\n",
       "      <td>2024-01-11T22:00:00</td>\n",
       "      <td>2024-01-11T23:00:00</td>\n",
       "      <td>DK1</td>\n",
       "      <td>200%</td>\n",
       "      <td>Preliminary</td>\n",
       "      <td>336.921622</td>\n",
       "      <td>254.004250</td>\n",
       "      <td>143.914145</td>\n",
       "      <td>3.533309</td>\n",
       "      <td>1.016756</td>\n",
       "      <td>1.046517</td>\n",
       "    </tr>\n",
       "    <tr>\n",
       "      <th>2</th>\n",
       "      <td>2024-01-11T22:00:00</td>\n",
       "      <td>2024-01-11T23:00:00</td>\n",
       "      <td>DK1</td>\n",
       "      <td>Total</td>\n",
       "      <td>Preliminary</td>\n",
       "      <td>415.681315</td>\n",
       "      <td>296.126915</td>\n",
       "      <td>191.803992</td>\n",
       "      <td>4.355709</td>\n",
       "      <td>1.016756</td>\n",
       "      <td>1.046517</td>\n",
       "    </tr>\n",
       "    <tr>\n",
       "      <th>3</th>\n",
       "      <td>2024-01-11T22:00:00</td>\n",
       "      <td>2024-01-11T23:00:00</td>\n",
       "      <td>DK2</td>\n",
       "      <td>125%</td>\n",
       "      <td>Preliminary</td>\n",
       "      <td>336.488948</td>\n",
       "      <td>112.379591</td>\n",
       "      <td>49.261961</td>\n",
       "      <td>3.145666</td>\n",
       "      <td>1.021146</td>\n",
       "      <td>1.335879</td>\n",
       "    </tr>\n",
       "    <tr>\n",
       "      <th>4</th>\n",
       "      <td>2024-01-11T22:00:00</td>\n",
       "      <td>2024-01-11T23:00:00</td>\n",
       "      <td>DK2</td>\n",
       "      <td>200%</td>\n",
       "      <td>Preliminary</td>\n",
       "      <td>462.233692</td>\n",
       "      <td>128.356479</td>\n",
       "      <td>61.839067</td>\n",
       "      <td>4.303630</td>\n",
       "      <td>1.021146</td>\n",
       "      <td>1.335879</td>\n",
       "    </tr>\n",
       "  </tbody>\n",
       "</table>\n",
       "</div>"
      ],
      "text/plain": [
       "               HourUTC               HourDK PriceArea FuelAllocationMethod  \\\n",
       "0  2024-01-11T22:00:00  2024-01-11T23:00:00       DK1                 125%   \n",
       "1  2024-01-11T22:00:00  2024-01-11T23:00:00       DK1                 200%   \n",
       "2  2024-01-11T22:00:00  2024-01-11T23:00:00       DK1                Total   \n",
       "3  2024-01-11T22:00:00  2024-01-11T23:00:00       DK2                 125%   \n",
       "4  2024-01-11T22:00:00  2024-01-11T23:00:00       DK2                 200%   \n",
       "\n",
       "       Version  CO2originPerkWh   CO2PerkWh   CH4PerkWh  N2OPerkWh   TFactor  \\\n",
       "0  Preliminary       291.246739  229.424337  115.186377   3.061148  1.016756   \n",
       "1  Preliminary       336.921622  254.004250  143.914145   3.533309  1.016756   \n",
       "2  Preliminary       415.681315  296.126915  191.803992   4.355709  1.016756   \n",
       "3  Preliminary       336.488948  112.379591   49.261961   3.145666  1.021146   \n",
       "4  Preliminary       462.233692  128.356479   61.839067   4.303630  1.021146   \n",
       "\n",
       "    DFactor  \n",
       "0  1.046517  \n",
       "1  1.046517  \n",
       "2  1.046517  \n",
       "3  1.335879  \n",
       "4  1.335879  "
      ]
     },
     "execution_count": 3,
     "metadata": {},
     "output_type": "execute_result"
    }
   ],
   "source": [
    "df.head()"
   ]
  },
  {
   "cell_type": "code",
   "execution_count": 4,
   "metadata": {},
   "outputs": [],
   "source": [
    "df = df[df['FuelAllocationMethod']=='125%']\n",
    "df = df[['HourDK', 'PriceArea', 'FuelAllocationMethod', 'CO2PerkWh']]"
   ]
  },
  {
   "cell_type": "code",
   "execution_count": 5,
   "metadata": {},
   "outputs": [],
   "source": [
    "# df['Miny_co2.head()utes5DK'] = pd.to_datetime(df['Minutes5DK'])\n",
    "# df['HourDK'] = df['Minutes5DK'].dt.round('H')\n",
    "# mean_hourly_co2 = df.groupby(['HourDK', 'PriceArea'])['CO2Emission'].mean().reset_index()\n",
    "# mean_hourl"
   ]
  },
  {
   "cell_type": "code",
   "execution_count": 6,
   "metadata": {},
   "outputs": [],
   "source": [
    "df.to_csv('DeclarationEmissionHour.csv', index=False)"
   ]
  },
  {
   "cell_type": "code",
   "execution_count": 7,
   "metadata": {},
   "outputs": [
    {
     "data": {
      "text/plain": [
       "'2022-01-01T00:00:00'"
      ]
     },
     "execution_count": 7,
     "metadata": {},
     "output_type": "execute_result"
    }
   ],
   "source": [
    "df['HourDK'].min()"
   ]
  },
  {
   "cell_type": "code",
   "execution_count": 8,
   "metadata": {},
   "outputs": [
    {
     "data": {
      "text/plain": [
       "(35568, 4)"
      ]
     },
     "execution_count": 8,
     "metadata": {},
     "output_type": "execute_result"
    }
   ],
   "source": [
    "df.shape"
   ]
  },
  {
   "cell_type": "code",
   "execution_count": null,
   "metadata": {},
   "outputs": [],
   "source": []
  }
 ],
 "metadata": {
  "kernelspec": {
   "display_name": "Python 3",
   "language": "python",
   "name": "python3"
  },
  "language_info": {
   "codemirror_mode": {
    "name": "ipython",
    "version": 3
   },
   "file_extension": ".py",
   "mimetype": "text/x-python",
   "name": "python",
   "nbconvert_exporter": "python",
   "pygments_lexer": "ipython3",
   "version": "3.11.4"
  }
 },
 "nbformat": 4,
 "nbformat_minor": 2
}
